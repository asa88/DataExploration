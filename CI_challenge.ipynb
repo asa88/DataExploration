{
 "metadata": {
  "name": "",
  "signature": "sha256:df7085e64753f39e19da4438220dd0fb0145dba5fc5e875a45584e8157391e17"
 },
 "nbformat": 3,
 "nbformat_minor": 0,
 "worksheets": [
  {
   "cells": [
    {
     "cell_type": "heading",
     "level": 1,
     "metadata": {},
     "source": [
      "Finding Insights on Campaigns"
     ]
    },
    {
     "cell_type": "code",
     "collapsed": false,
     "input": [
      "import numpy as np\n",
      "import pandas as pd\n",
      "import re\n",
      "import ast\n",
      "import copy\n",
      "pd.set_option('mode.use_inf_as_null', True) # treat inf values as nan"
     ],
     "language": "python",
     "metadata": {},
     "outputs": [],
     "prompt_number": 1
    },
    {
     "cell_type": "code",
     "collapsed": false,
     "input": [
      "''' Load the input data '''\n",
      "df1=pd.read_csv('CI_Analyst_-_input1.csv')\n",
      "df2=pd.read_csv('CI_Analyst_-_input2.csv')"
     ],
     "language": "python",
     "metadata": {},
     "outputs": [],
     "prompt_number": 2
    },
    {
     "cell_type": "code",
     "collapsed": false,
     "input": [
      "'''process input1 df1'''\n",
      "age=[];device=[];cluster=[]\n",
      "for string in df1.campaign_name:\n",
      "    #m1=re.match('(<\\d+|\\d+-\\d+|\\d+\\+)_.*',string) #  regex for matching dates\n",
      "    ts=string.split('_')\n",
      "    age.append(ts[0])\n",
      "    cluster.append(ts[1])\n",
      "    s='_'.join(ts[2:])\n",
      "    f=re.search('(\\d{3,})',s) #search if the campaign name has a date value\n",
      "    if f: device.append(s.replace(f.group(1),'').strip('_')) #discard date\n",
      "    else: device.append(s)\n",
      "df1['device']=device\n",
      "df1['age']=age\n",
      "df1['cluster']=cluster"
     ],
     "language": "python",
     "metadata": {},
     "outputs": [],
     "prompt_number": 107
    },
    {
     "cell_type": "code",
     "collapsed": false,
     "input": [
      "df1_n=copy.deepcopy(df1) # new dataframe for inp1 (optional)"
     ],
     "language": "python",
     "metadata": {},
     "outputs": [],
     "prompt_number": 108
    },
    {
     "cell_type": "code",
     "collapsed": false,
     "input": [
      "'''process input2 df2 '''\n",
      "cluster=[];age=[];device=[]\n",
      "for ts in df2.campaign_name:\n",
      "    rem=[] #contains items that need to be removed from device name\n",
      "    for item in ts.split('_'):\n",
      "        if 'cluster' in item or 'target' in item:\n",
      "            rem.append(item)\n",
      "            cluster.append(item)\n",
      "        try:\n",
      "            m=re.match( '<\\d+|\\d+-\\d+|\\d+\\+',item)\n",
      "            rem.append(m.group(0))\n",
      "            age.append(m.group(0))\n",
      "        except:\n",
      "            pass\n",
      "    device.append(ts.replace(rem[0],'').replace(rem[1],'').strip('_'))\n",
      "\n",
      "df2['device']=device\n",
      "df2['age']=age\n",
      "df2['cluster']=cluster\n",
      "df2_n=df2.drop('campaign_name',axis=1) #new data frame 2"
     ],
     "language": "python",
     "metadata": {},
     "outputs": [],
     "prompt_number": 110
    },
    {
     "cell_type": "code",
     "collapsed": false,
     "input": [],
     "language": "python",
     "metadata": {},
     "outputs": [],
     "prompt_number": 123
    },
    {
     "cell_type": "code",
     "collapsed": false,
     "input": [
      "''' Merging on the keys of input 1, to  prevent unmatched campaigns with nan values.\n",
      "    Assuming input1 has the campiagns we want to generate results for '''\n",
      "df_merged = pd.merge(df1_n,df2_n, on=['age', 'cluster', 'device'],how='left')"
     ],
     "language": "python",
     "metadata": {},
     "outputs": [],
     "prompt_number": 112
    },
    {
     "cell_type": "code",
     "collapsed": false,
     "input": [
      "# a look at df_merged\n",
      "df_merged.head()"
     ],
     "language": "python",
     "metadata": {},
     "outputs": [
      {
       "html": [
        "<div style=\"max-height:1000px;max-width:1500px;overflow:auto;\">\n",
        "<table border=\"1\" class=\"dataframe\">\n",
        "  <thead>\n",
        "    <tr style=\"text-align: right;\">\n",
        "      <th></th>\n",
        "      <th>campaign_name</th>\n",
        "      <th>spend</th>\n",
        "      <th>impressions</th>\n",
        "      <th>clicks</th>\n",
        "      <th>device</th>\n",
        "      <th>age</th>\n",
        "      <th>cluster</th>\n",
        "      <th>actions</th>\n",
        "      <th>object_type</th>\n",
        "    </tr>\n",
        "  </thead>\n",
        "  <tbody>\n",
        "    <tr>\n",
        "      <th>0</th>\n",
        "      <td> 21-30_cluster1_htc_one_2GB_limited_time_offer_...</td>\n",
        "      <td> 250.00</td>\n",
        "      <td> 1851</td>\n",
        "      <td> 51</td>\n",
        "      <td> htc_one_2GB_limited_time_offer</td>\n",
        "      <td> 21-30</td>\n",
        "      <td>    cluster1</td>\n",
        "      <td> [{'value': 4, 'action_type': 'video_view'}, {'...</td>\n",
        "      <td>   LPP</td>\n",
        "    </tr>\n",
        "    <tr>\n",
        "      <th>1</th>\n",
        "      <td>             &lt;21_allclusters_iphone_6/6+_Vzn_10114</td>\n",
        "      <td>  44.54</td>\n",
        "      <td> 2866</td>\n",
        "      <td>  1</td>\n",
        "      <td>                iphone_6/6+_Vzn</td>\n",
        "      <td>   &lt;21</td>\n",
        "      <td> allclusters</td>\n",
        "      <td> [{'value': 0, 'action_type': 'like'}, {'value'...</td>\n",
        "      <td>   LPP</td>\n",
        "    </tr>\n",
        "    <tr>\n",
        "      <th>2</th>\n",
        "      <td>                        21-30_notarget_htc_one_1GB</td>\n",
        "      <td> 366.52</td>\n",
        "      <td> 8658</td>\n",
        "      <td> 90</td>\n",
        "      <td>                    htc_one_1GB</td>\n",
        "      <td> 21-30</td>\n",
        "      <td>    notarget</td>\n",
        "      <td>         [{'value': 16, 'action_type': 'comment'}]</td>\n",
        "      <td> VIDEO</td>\n",
        "    </tr>\n",
        "    <tr>\n",
        "      <th>3</th>\n",
        "      <td>                     &lt;21_cluster3_htc_one_1GB_8114</td>\n",
        "      <td> 427.83</td>\n",
        "      <td> 1549</td>\n",
        "      <td> 79</td>\n",
        "      <td>                    htc_one_1GB</td>\n",
        "      <td>   &lt;21</td>\n",
        "      <td>    cluster3</td>\n",
        "      <td>            [{'value': 14, 'action_type': 'like'}]</td>\n",
        "      <td>   LPP</td>\n",
        "    </tr>\n",
        "    <tr>\n",
        "      <th>4</th>\n",
        "      <td>      31-40_notarget_iPhone_6/6+_all_other_devices</td>\n",
        "      <td>  79.14</td>\n",
        "      <td> 6885</td>\n",
        "      <td> 98</td>\n",
        "      <td>  iPhone_6/6+_all_other_devices</td>\n",
        "      <td> 31-40</td>\n",
        "      <td>    notarget</td>\n",
        "      <td>                                                []</td>\n",
        "      <td>   LPP</td>\n",
        "    </tr>\n",
        "  </tbody>\n",
        "</table>\n",
        "</div>"
       ],
       "metadata": {},
       "output_type": "pyout",
       "prompt_number": 113,
       "text": [
        "                                       campaign_name   spend  impressions  \\\n",
        "0  21-30_cluster1_htc_one_2GB_limited_time_offer_...  250.00         1851   \n",
        "1              <21_allclusters_iphone_6/6+_Vzn_10114   44.54         2866   \n",
        "2                         21-30_notarget_htc_one_1GB  366.52         8658   \n",
        "3                      <21_cluster3_htc_one_1GB_8114  427.83         1549   \n",
        "4       31-40_notarget_iPhone_6/6+_all_other_devices   79.14         6885   \n",
        "\n",
        "   clicks                          device    age      cluster  \\\n",
        "0      51  htc_one_2GB_limited_time_offer  21-30     cluster1   \n",
        "1       1                 iphone_6/6+_Vzn    <21  allclusters   \n",
        "2      90                     htc_one_1GB  21-30     notarget   \n",
        "3      79                     htc_one_1GB    <21     cluster3   \n",
        "4      98   iPhone_6/6+_all_other_devices  31-40     notarget   \n",
        "\n",
        "                                             actions object_type  \n",
        "0  [{'value': 4, 'action_type': 'video_view'}, {'...         LPP  \n",
        "1  [{'value': 0, 'action_type': 'like'}, {'value'...         LPP  \n",
        "2          [{'value': 16, 'action_type': 'comment'}]       VIDEO  \n",
        "3             [{'value': 14, 'action_type': 'like'}]         LPP  \n",
        "4                                                 []         LPP  "
       ]
      }
     ],
     "prompt_number": 113
    },
    {
     "cell_type": "code",
     "collapsed": false,
     "input": [
      "''' Generate Video View and Story Engagement Values. \n",
      "    Here values are extracted from the Dictionary  '''\n",
      "vid_view=[];str_eng=[]\n",
      "for action in df_merged.actions:\n",
      "    eng=0\n",
      "    try:\n",
      "        ls=ast.literal_eval(action)\n",
      "        if ls:\n",
      "            found=False\n",
      "            for x in ls:\n",
      "                if x['action_type']=='video_view':\n",
      "                    vid_view.append(x['value'])\n",
      "                    found=True\n",
      "                else:\n",
      "                    eng+=x['value']\n",
      "            if not found:\n",
      "                vid_view.append(0)\n",
      "            str_eng.append(eng)\n",
      "                \n",
      "        else:\n",
      "            vid_view.append(0)\n",
      "            str_eng.append(eng)\n",
      "    except:\n",
      "        vid_view.append(0)\n",
      "        str_eng.append(eng)"
     ],
     "language": "python",
     "metadata": {},
     "outputs": [],
     "prompt_number": 114
    },
    {
     "cell_type": "code",
     "collapsed": false,
     "input": [
      "'''Use the above extracted information and add it to the merged dataframe'''\n",
      "df_merged['video_view']=vid_view\n",
      "df_merged.video_view[df_merged.object_type!='VIDEO']=0 #set video view to 0 for non-video object\n",
      "df_merged['CPVV']= df_merged.spend.div(df_merged.video_view, axis='index')\n",
      "df_merged.CPVV=df_merged.CPVV.fillna(value=0) # replace inf with 0\n",
      "df_merged['Storied_Engagements']=str_eng\n",
      "#drop the columns that are not required anymore\n",
      "df_merged=df_merged.drop('actions',axis=1)\n",
      "df_merged=df_merged.drop('video_view',axis=1)\n",
      "df_merged=df_merged.drop('clicks',axis=1)"
     ],
     "language": "python",
     "metadata": {},
     "outputs": [],
     "prompt_number": 117
    },
    {
     "cell_type": "heading",
     "level": 3,
     "metadata": {},
     "source": [
      "Genrate the Required Tables "
     ]
    },
    {
     "cell_type": "code",
     "collapsed": false,
     "input": [
      "'''Table 1: A table grouped by key (age,device,cluster)'''\n",
      "g1=df_merged.groupby(['age','device','cluster'])\n",
      "df_t1=g1.sum()\n",
      "df_t1['Count']=g1.campaign_name.value_counts().groupby(level=[0,1,2]).count()"
     ],
     "language": "python",
     "metadata": {},
     "outputs": [],
     "prompt_number": 102
    },
    {
     "cell_type": "code",
     "collapsed": false,
     "input": [
      "'''Table 2: A table grouped by age'''\n",
      "g2=df_merged.groupby('age')\n",
      "df_t2=g2.sum()\n",
      "df_t2['Count']=g2.campaign_name.value_counts().groupby(level=0).count()"
     ],
     "language": "python",
     "metadata": {},
     "outputs": [],
     "prompt_number": 29
    },
    {
     "cell_type": "code",
     "collapsed": false,
     "input": [
      "'''Table 3: A table grouped by cluster'''\n",
      "g3=df_merged.groupby('cluster')\n",
      "df_t3=g3.sum()\n",
      "df_t3['Count']=g3.campaign_name.value_counts().groupby(level=0).count()"
     ],
     "language": "python",
     "metadata": {},
     "outputs": [],
     "prompt_number": 31
    },
    {
     "cell_type": "code",
     "collapsed": false,
     "input": [
      "'''Table 4: A table grouped by device'''\n",
      "g4=df_merged.groupby('device')\n",
      "df_t4=g4.sum()\n",
      "df_t4['Count']=g4.campaign_name.value_counts().groupby(level=0).count()"
     ],
     "language": "python",
     "metadata": {},
     "outputs": [],
     "prompt_number": 118
    },
    {
     "cell_type": "code",
     "collapsed": false,
     "input": [
      "# m1=re.match('(<\\d+|\\d+-\\d+|\\d+\\+)_(.*?)_(.*)_(\\w+|\\d{3,})',string) #age"
     ],
     "language": "python",
     "metadata": {},
     "outputs": []
    },
    {
     "cell_type": "heading",
     "level": 3,
     "metadata": {},
     "source": [
      "Write Tables to Excel File"
     ]
    },
    {
     "cell_type": "code",
     "collapsed": false,
     "input": [
      "df_t1.to_excel('Table1.xlsx', sheet_name='Sheet1')\n",
      "df_t2.to_excel('Table2.xlsx', sheet_name='Sheet1')\n",
      "df_t3.to_excel('Table3.xlsx', sheet_name='Sheet1')\n",
      "df_t4.to_excel('Table4.xlsx', sheet_name='Sheet1')"
     ],
     "language": "python",
     "metadata": {},
     "outputs": [],
     "prompt_number": 120
    }
   ],
   "metadata": {}
  }
 ]
}