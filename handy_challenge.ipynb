{
 "metadata": {
  "name": "",
  "signature": "sha256:4e257e37e14e5b6bd7c39ddb3253a7e0dcfa8eb3e306933a26f3a24a3d6e921f"
 },
 "nbformat": 3,
 "nbformat_minor": 0,
 "worksheets": [
  {
   "cells": [
    {
     "cell_type": "code",
     "collapsed": false,
     "input": [
      "import pandas as pd\n",
      "import numpy as np\n",
      "\n",
      "import brewer2mpl\n",
      "import matplotlib.pyplot as plt\n",
      "%matplotlib inline\n",
      "\n",
      "from sklearn.ensemble import RandomForestClassifier\n",
      "from sklearn.metrics import classification_report,roc_auc_score,confusion_matrix\n",
      "from sklearn import svm, grid_search\n",
      "import copy"
     ],
     "language": "python",
     "metadata": {},
     "outputs": [],
     "prompt_number": 818
    },
    {
     "cell_type": "code",
     "collapsed": false,
     "input": [
      "'''Load the Data and do some basic processing'''\n",
      "\n",
      "tr_df=pd.read_csv('handy_bookings_train.csv')\n",
      "tr_df=tr_df.set_index('row_id')\n",
      "\n",
      "tr_df.loc[:,('date_added')]=pd.to_datetime(tr_df.loc[:,('date_added')])\n",
      "date_temp=pd.DatetimeIndex(tr_df.date_added)\n",
      "tr_df.loc[:,('day_of_week')]=date_temp.dayofweek"
     ],
     "language": "python",
     "metadata": {},
     "outputs": [],
     "prompt_number": 560
    },
    {
     "cell_type": "code",
     "collapsed": false,
     "input": [],
     "language": "python",
     "metadata": {},
     "outputs": [],
     "prompt_number": 563
    },
    {
     "cell_type": "code",
     "collapsed": false,
     "input": [
      "# Set up some better defaults for matplotlib\n",
      "from matplotlib import rcParams\n",
      "\n",
      "#colorbrewer2 Dark2 qualitative color table\n",
      "dark2_colors = brewer2mpl.get_map('Dark2', 'Qualitative', 7).mpl_colors\n",
      "\n",
      "rcParams['figure.figsize'] = (10, 6)\n",
      "rcParams['figure.dpi'] = 150\n",
      "rcParams['axes.color_cycle'] = dark2_colors\n",
      "rcParams['lines.linewidth'] = 2\n",
      "rcParams['axes.facecolor'] = 'white'\n",
      "rcParams['font.size'] = 14\n",
      "rcParams['patch.edgecolor'] = 'white'\n",
      "rcParams['patch.facecolor'] = dark2_colors[0]\n",
      "rcParams['font.family'] = 'StixGeneral'\n",
      "\n",
      "def remove_border(axes=None, top=False, right=False, left=True, bottom=True):\n",
      "    \"\"\"\n",
      "    Minimize chartjunk by stripping out unnecesasry plot borders and axis ticks\n",
      "    \n",
      "    The top/right/left/bottom keywords toggle whether the corresponding plot border is drawn\n",
      "    \"\"\"\n",
      "    ax = axes or plt.gca()\n",
      "    ax.spines['top'].set_visible(top)\n",
      "    ax.spines['right'].set_visible(right)\n",
      "    ax.spines['left'].set_visible(left)\n",
      "    ax.spines['bottom'].set_visible(bottom)\n",
      "    \n",
      "    #turn off all ticks\n",
      "    ax.yaxis.set_ticks_position('none')\n",
      "    ax.xaxis.set_ticks_position('none')\n",
      "    \n",
      "    #now re-enable visibles\n",
      "    if top:\n",
      "        ax.xaxis.tick_top()\n",
      "    if bottom:\n",
      "        ax.xaxis.tick_bottom()\n",
      "    if left:\n",
      "        ax.yaxis.tick_left()\n",
      "    if right:\n",
      "        ax.yaxis.tick_right()"
     ],
     "language": "python",
     "metadata": {},
     "outputs": [],
     "prompt_number": 774
    },
    {
     "cell_type": "heading",
     "level": 3,
     "metadata": {},
     "source": [
      "The operating regions are indicated by region_id. Generate a report of the average hourly_charge in each operating region as well as the overall average."
     ]
    },
    {
     "cell_type": "code",
     "collapsed": false,
     "input": [
      "df=tr_df.ix[:,['region_id','hourly_charge']].groupby('region_id',sort=False)"
     ],
     "language": "python",
     "metadata": {},
     "outputs": [],
     "prompt_number": 776
    },
    {
     "cell_type": "code",
     "collapsed": false,
     "input": [
      "mean_rate=tr_df.hourly_charge.mean()\n",
      "plt.figure(figsize=(8,6))\n",
      "\n",
      "plt.bar(df.mean().index,df.mean().hourly_charge,color='orange',width=1)\n",
      "plt.axhline(mean_rate, color='blue', linewidth=2)\n",
      "remove_border(left=False)\n",
      "plt.annotate('mean rate', xy=(20, 2670), xytext=(18.5, 3200),\n",
      "            arrowprops=dict(facecolor='black', shrink=0.05))\n",
      "plt.title(\"Average hourly rate for each region\")\n",
      "plt.xlabel(\"Region Id\")\n",
      "plt.ylabel(\"Hourly Rate\")\n",
      "plt.show()"
     ],
     "language": "python",
     "metadata": {},
     "outputs": [
      {
       "metadata": {},
       "output_type": "display_data",
       "png": "[encoded data removed]",
       "text": [
        "<matplotlib.figure.Figure at 0x7ff960232790>"
       ]
      }
     ],
     "prompt_number": 780
    },
    {
     "cell_type": "heading",
     "level": 3,
     "metadata": {},
     "source": [
      "Assuming that a booking is completed if it is not cancelled by the customer and has no reschedule events, generate a report based on the calendar week (running Sun-Sat) of the number of bookings done, number of bookings done using coupons, total hours booked, and number of bookings which were cancelled by the customer"
     ]
    },
    {
     "cell_type": "code",
     "collapsed": false,
     "input": [
      "not_cancelled=tr_df.customer_cancelation_date.map(lambda x:pd.isnull(x))\n",
      "new_df=tr_df[not_cancelled] \n",
      "new_df=new_df[ tr_df.reschedule_events_count <1 ]"
     ],
     "language": "python",
     "metadata": {},
     "outputs": [],
     "prompt_number": 231
    },
    {
     "cell_type": "code",
     "collapsed": false,
     "input": [
      "new_df.coupon[new_df.coupon >0] = 1\n",
      "new_df.coupon=new_df.coupon.fillna(value=0)"
     ],
     "language": "python",
     "metadata": {},
     "outputs": [],
     "prompt_number": 565
    },
    {
     "cell_type": "code",
     "collapsed": false,
     "input": [
      "'''Cancelled Bookings'''\n",
      "cancelled=tr_df.customer_cancelation_date.map(lambda x:pd.notnull(x))\n",
      "canc_df=tr_df[cancelled] \n",
      "canc_bk=canc_df.groupby('day_of_week').size()"
     ],
     "language": "python",
     "metadata": {},
     "outputs": [],
     "prompt_number": 566
    },
    {
     "cell_type": "code",
     "collapsed": false,
     "input": [],
     "language": "python",
     "metadata": {},
     "outputs": [],
     "prompt_number": 781
    },
    {
     "cell_type": "code",
     "collapsed": false,
     "input": [],
     "language": "python",
     "metadata": {},
     "outputs": [],
     "prompt_number": 780
    },
    {
     "cell_type": "code",
     "collapsed": false,
     "input": [
      "coupon_typ=new_df.groupby(['day_of_week','coupon']).size().unstack()\n",
      "plt.figure(figsize=(12,8))\n",
      "\n",
      "red, blue = '#B2182B', '#2166AC'\n",
      "plt.bar(coupon_typ.index*2, coupon_typ[0], color=red, label='Without Coupon')\n",
      "plt.bar(coupon_typ.index*2, coupon_typ[1], bottom=coupon_typ[0], color=blue, label='With Coupon')\n",
      "plt.bar(canc_bk.index*2+0.80,canc_bk,label='Cancelled Bookings')\n",
      "plt.xticks([0.5, 2.5 ,4.5 ,6.5,8.5,10.5,12.5], ['Monday','Tuesday','Wednesday','Thursday','Friday','Saturday','Sunday'], rotation='horizontal')\n",
      "plt.xlabel(\"Days of the Week\")\n",
      "plt.ylabel(\"Bookings\")\n",
      "plt.legend(loc='upper right')\n",
      "remove_border()\n",
      "plt.suptitle(\"Total Bookings Each Day \", fontsize=20)\n",
      "plt.show()\n",
      "\n",
      "plt.figure(figsize=(12,8))\n",
      "tot_hrs=new_df.groupby('day_of_week')['hrs'].sum()\n",
      "plt.bar(tot_hrs.index,tot_hrs,width=0.5)\n",
      "plt.xticks([0.25, 1.25, 2.25 ,3.25 ,4.25,5.25,6.25] , ['Monday','Tuesday','Wednesday','Thursday','Friday','Saturday','Sunday'], rotation='horizontal')\n",
      "plt.xlabel(\"Days of the Week\")\n",
      "plt.ylabel(\"Total Booked Hours\")\n",
      "plt.suptitle(\"Hours Booked during the week\",fontsize=20)\n",
      "remove_border()\n",
      "plt.show()\n"
     ],
     "language": "python",
     "metadata": {},
     "outputs": [
      {
       "metadata": {},
       "output_type": "display_data",
       "png": "[encoded data removed]",
       "text": [
        "<matplotlib.figure.Figure at 0x7ff962b881d0>"
       ]
      },
      {
       "metadata": {},
       "output_type": "display_data",
       "png": "[encoded data removed]",
       "text": [
        "<matplotlib.figure.Figure at 0x7ff9605d3650>"
       ]
      }
     ],
     "prompt_number": 785
    },
    {
     "cell_type": "heading",
     "level": 3,
     "metadata": {},
     "source": [
      "Recurring bookings are bookings which happen on a regularly scheduled basis and are indicated by recurring_id and a frequency (freq) indicating how many weeks pass between each booking in the series. Determine the distribution of bookings based on the frequency of the recurring booking to which they belong across the days of the week on which they were completed."
     ]
    },
    {
     "cell_type": "code",
     "collapsed": false,
     "input": [
      "freq_df=tr_df[tr_df.freq.notnull()]"
     ],
     "language": "python",
     "metadata": {},
     "outputs": [],
     "prompt_number": 571
    },
    {
     "cell_type": "code",
     "collapsed": false,
     "input": [
      "freq_temp=pd.DatetimeIndex(freq_df.date_added)\n",
      "freq_df.loc[:,('day_of_week')]=freq_temp.dayofweek"
     ],
     "language": "python",
     "metadata": {},
     "outputs": [],
     "prompt_number": 572
    },
    {
     "cell_type": "code",
     "collapsed": false,
     "input": [
      "tot_freq=freq_df.groupby(['day_of_week','freq']).size().unstack()\n",
      "tot_freq.columns=['one','two','four']\n",
      "plt.figure(figsize=(10,6))\n",
      "plt.bar(tot_freq.index*3, tot_freq['one'], color=red, label='every week')\n",
      "plt.bar(tot_freq.index*3+0.8, tot_freq['two'], color=blue, label='every two weeks')\n",
      "plt.bar(tot_freq.index*3+1.60,tot_freq['four'],label='every four weeks')\n",
      "plt.xticks([1.5, 4.5, 7.5 ,10.5 ,13.5,16.5,19.5], ['Monday','Tuesday','Wednesday','Thursday','Friday','Saturday','Sunday'], rotation='horizontal')\n",
      "plt.xlabel(\"Days of the Week\")\n",
      "plt.ylabel(\"Number of Recurring Bookings\")\n",
      "remove_border()\n",
      "plt.suptitle(\"Weekly distribution of recurring bookings\",fontsize=20)\n",
      "plt.legend()\n",
      "plt.show()"
     ],
     "language": "python",
     "metadata": {},
     "outputs": [
      {
       "metadata": {},
       "output_type": "display_data",
       "png": "[encoded data removed]",
       "text": [
        "<matplotlib.figure.Figure at 0x7ff96e46a3d0>"
       ]
      }
     ],
     "prompt_number": 783
    },
    {
     "cell_type": "heading",
     "level": 3,
     "metadata": {},
     "source": [
      "Say we have a problem with customers canceling and rescheduling bookings. Assuming all the bookings are from different users, pull metrics which you believe would give a general profile of these problem users."
     ]
    },
    {
     "cell_type": "code",
     "collapsed": false,
     "input": [
      "''' Brew up the Traininig Data'''\n",
      "train_df=copy.deepcopy(tr_df)\n",
      "train_df=train_df.fillna(value=0) #impute missing values\n",
      "\n",
      "train_df['problem_customers'] = pd.Series(np.zeros(len(train_df)+1)) # create empty label vector\n",
      "train_df.problem_customers[(train_df.reschedule_events_count | train_df.customer_cancelation_date) >0]=1\n",
      "train_df.recurring_id[train_df.recurring_id >0 ] =1\n",
      "train_df.coupon[train_df.coupon >0 ] =1\n",
      "\n",
      "train_labels=train_df.ix[:,['problem_customers']] #set training labels"
     ],
     "language": "python",
     "metadata": {},
     "outputs": [],
     "prompt_number": 702
    },
    {
     "cell_type": "code",
     "collapsed": false,
     "input": [
      "'''Ignore some datetime features'''\n",
      "train_df=train_df.ix[:,[ 'day_of_week','description_words','hrs', 'coupon', 'num_providers',  'has_campaign', 'freq', \n",
      "                  'hourly_charge',  'clicked_extra_home_cleaning',  'region_id',\n",
      "                  'peak_priced', 'is_provider_requested','reschedule_events_count','user_bookings_count',\n",
      "                   'user_cancelled_bookings_count']]\n"
     ],
     "language": "python",
     "metadata": {},
     "outputs": [],
     "prompt_number": 711
    },
    {
     "cell_type": "code",
     "collapsed": false,
     "input": [],
     "language": "python",
     "metadata": {},
     "outputs": [],
     "prompt_number": 689
    },
    {
     "cell_type": "code",
     "collapsed": false,
     "input": [
      "'''GRID SEARCH FOR BEST PARAMETERS'''\n",
      "# Build a forest and compute the feature importances\n",
      "param_grid = {'min_samples_leaf':[5, 10, 20] , 'max_features': [0.2, 0.3, 0.4, 0.5]}\n",
      "forest = RandomForestClassifier(n_estimators=500,  random_state=1234,bootstrap = False)\n",
      "clf = grid_search.GridSearchCV(forest, param_grid,scoring='roc_auc')\n",
      "clf.fit(np.array(train_df), np.ravel(train_labels))\n"
     ],
     "language": "python",
     "metadata": {},
     "outputs": [
      {
       "metadata": {},
       "output_type": "pyout",
       "prompt_number": 693,
       "text": [
        "GridSearchCV(cv=None,\n",
        "       estimator=RandomForestClassifier(bootstrap=False, compute_importances=None,\n",
        "            criterion='gini', max_depth=None, max_features='auto',\n",
        "            max_leaf_nodes=None, min_density=None, min_samples_leaf=1,\n",
        "            min_samples_split=2, n_estimators=500, n_jobs=1,\n",
        "            oob_score=False, random_state=1234, verbose=0),\n",
        "       fit_params={}, iid=True, loss_func=None, n_jobs=1,\n",
        "       param_grid={'max_features': [0.2, 0.3, 0.4, 0.5], 'min_samples_leaf': [5, 10, 20]},\n",
        "       pre_dispatch='2*n_jobs', refit=True, score_func=None,\n",
        "       scoring='roc_auc', verbose=0)"
       ]
      }
     ],
     "prompt_number": 693
    },
    {
     "cell_type": "code",
     "collapsed": false,
     "input": [
      "## train the model using the best estimators\n",
      "clf_forest=RandomForestClassifier(bootstrap=False, compute_importances=None,criterion='gini', max_depth=None, \n",
      "                                  max_features=0.2,max_leaf_nodes=None, min_density=None, min_samples_leaf=20,\n",
      "                                  min_samples_split=2, n_estimators=500, n_jobs=1,oob_score=False, random_state=1234, verbose=0)\n",
      "\n",
      "clf_forest.fit(np.array(train_df), np.ravel(train_labels))"
     ],
     "language": "python",
     "metadata": {},
     "outputs": [
      {
       "metadata": {},
       "output_type": "pyout",
       "prompt_number": 697,
       "text": [
        "RandomForestClassifier(bootstrap=False, compute_importances=None,\n",
        "            criterion='gini', max_depth=None, max_features=0.2,\n",
        "            max_leaf_nodes=None, min_density=None, min_samples_leaf=20,\n",
        "            min_samples_split=2, n_estimators=500, n_jobs=1,\n",
        "            oob_score=False, random_state=1234, verbose=0)"
       ]
      }
     ],
     "prompt_number": 697
    },
    {
     "cell_type": "code",
     "collapsed": false,
     "input": [
      "importances = clf_forest.feature_importances_\n",
      "std = np.std([tree.feature_importances_ for tree in clf_forest.estimators_],\n",
      "             axis=0)\n",
      "indices = np.argsort(importances)[::-1]"
     ],
     "language": "python",
     "metadata": {},
     "outputs": [],
     "prompt_number": 750
    },
    {
     "cell_type": "code",
     "collapsed": false,
     "input": [
      "plt.figure(figsize=(6,8))\n",
      "plt.title('Feature Importance')\n",
      "plt.barh(range(15), importances[indices][::-1],align='center')\n",
      "plt.yticks(range(15), train_df.columns[indices])\n",
      "\n",
      "#add the numbers to the side of each bar\n",
      "for ind,val in zip(indices,range(14,-1,-1)):\n",
      "    plt.annotate(str(round(importances[ind],3)), xy=(importances[ind] + 0.1, val + .1), va='center')\n",
      "\n",
      "#cutomize ticks\n",
      "#ticks = plt.yticks(pos + .5, city)\n",
      "xt = plt.xticks()[0]\n",
      "plt.xticks(xt, [' '] * len(xt))\n",
      "\n",
      "#minimize chartjunk\n",
      "remove_border(left=False, bottom=False)\n",
      "plt.grid(axis = 'x', color ='white', linestyle='-')\n",
      "\n",
      "#set plot limits\n",
      "plt.xlim(0, 1.5)\n",
      "plt.show()"
     ],
     "language": "python",
     "metadata": {},
     "outputs": [
      {
       "metadata": {},
       "output_type": "display_data",
       "png": "[encoded data removed]",
       "text": [
        "<matplotlib.figure.Figure at 0x7ff960412850>"
       ]
      }
     ],
     "prompt_number": 787
    },
    {
     "cell_type": "code",
     "collapsed": false,
     "input": [],
     "language": "python",
     "metadata": {},
     "outputs": [],
     "prompt_number": 787
    },
    {
     "cell_type": "code",
     "collapsed": false,
     "input": [],
     "language": "python",
     "metadata": {},
     "outputs": [],
     "prompt_number": 794
    },
    {
     "cell_type": "code",
     "collapsed": false,
     "input": [
      "''' Brew up the Testing Data'''\n",
      "ts_df=pd.read_csv('handy_bookings_test.csv')\n",
      "ts_df=ts_df.set_index('row_id')\n",
      "ts_df.loc[:,('date_added')]=pd.to_datetime(ts_df.loc[:,('date_added')])\n",
      "ts_temp=pd.DatetimeIndex(ts_df.date_added)\n",
      "ts_df.loc[:,('day_of_week')]=ts_temp.dayofweek\n",
      "\n",
      "test_df=copy.deepcopy(ts_df)\n",
      "test_df=test_df.fillna(value=0) #impute missing values\n",
      "\n",
      "test_df['problem_customers'] = np.zeros(len(test_df)) # create empty label vector\n",
      "test_df.problem_customers[(test_df.reschedule_events_count | test_df.customer_cancelation_date) >0]=1\n",
      "test_df.recurring_id[test_df.recurring_id >0 ] =1\n",
      "test_df.coupon[test_df.coupon >0 ] =1\n",
      "\n",
      "test_labels=test_df.ix[:,['problem_customers']] #set training labels"
     ],
     "language": "python",
     "metadata": {},
     "outputs": [],
     "prompt_number": 800
    },
    {
     "cell_type": "code",
     "collapsed": false,
     "input": [
      "test_df=test_df.ix[:,[ 'day_of_week','description_words','hrs', 'coupon', 'num_providers',  'has_campaign', 'freq', \n",
      "                  'hourly_charge',  'clicked_extra_home_cleaning',  'region_id',\n",
      "                  'peak_priced', 'is_provider_requested','reschedule_events_count','user_bookings_count',\n",
      "                   'user_cancelled_bookings_count']]"
     ],
     "language": "python",
     "metadata": {},
     "outputs": [],
     "prompt_number": 811
    },
    {
     "cell_type": "code",
     "collapsed": false,
     "input": [
      "ts_predict=clf_forest.predict(np.array(test_df))"
     ],
     "language": "python",
     "metadata": {},
     "outputs": [],
     "prompt_number": 812
    },
    {
     "cell_type": "code",
     "collapsed": false,
     "input": [
      "print(classification_report(test_labels, ts_predict, target_names=['cancelled','not_cancelled']))"
     ],
     "language": "python",
     "metadata": {},
     "outputs": [
      {
       "output_type": "stream",
       "stream": "stdout",
       "text": [
        "               precision    recall  f1-score   support\n",
        "\n",
        "    cancelled       1.00      0.94      0.97       806\n",
        "not_cancelled       0.80      1.00      0.89       194\n",
        "\n",
        "  avg / total       0.96      0.95      0.95      1000\n",
        "\n"
       ]
      }
     ],
     "prompt_number": 815
    },
    {
     "cell_type": "code",
     "collapsed": false,
     "input": [
      "roc_auc_score(test_labels,ts_predict)"
     ],
     "language": "python",
     "metadata": {},
     "outputs": [
      {
       "metadata": {},
       "output_type": "pyout",
       "prompt_number": 817,
       "text": [
        "0.96898263027295284"
       ]
      }
     ],
     "prompt_number": 817
    },
    {
     "cell_type": "code",
     "collapsed": false,
     "input": [
      "# Compute confusion matrix\n",
      "cm = confusion_matrix(test_labels, ts_predict)\n",
      "\n",
      "print(cm)\n",
      "\n",
      "# Show confusion matrix in a separate window\n",
      "plt.matshow(cm)\n",
      "plt.title('Confusion matrix')\n",
      "plt.colorbar()\n",
      "plt.ylabel('True label')\n",
      "plt.xlabel('Predicted label')\n",
      "plt.show()"
     ],
     "language": "python",
     "metadata": {},
     "outputs": [
      {
       "output_type": "stream",
       "stream": "stdout",
       "text": [
        "[[756  50]\n",
        " [  0 194]]\n"
       ]
      },
      {
       "metadata": {},
       "output_type": "display_data",
       "png": "[encoded data removed]",
       "text": [
        "<matplotlib.figure.Figure at 0x7ff963191450>"
       ]
      }
     ],
     "prompt_number": 819
    },
    {
     "cell_type": "code",
     "collapsed": false,
     "input": [
      "pd.DataFrame(columns=test_labels,ts_predict)"
     ],
     "language": "python",
     "metadata": {},
     "outputs": [
      {
       "ename": "SyntaxError",
       "evalue": "non-keyword arg after keyword arg (<ipython-input-822-80f3ab9f4017>, line 1)",
       "output_type": "pyerr",
       "traceback": [
        "\u001b[1;36m  File \u001b[1;32m\"<ipython-input-822-80f3ab9f4017>\"\u001b[1;36m, line \u001b[1;32m1\u001b[0m\n\u001b[1;33m    pd.DataFrame(columns=test_labels,ts_predict)\u001b[0m\n\u001b[1;31mSyntaxError\u001b[0m\u001b[1;31m:\u001b[0m non-keyword arg after keyword arg\n"
       ]
      }
     ],
     "prompt_number": 822
    },
    {
     "cell_type": "code",
     "collapsed": false,
     "input": [
      "d = {'orig': np.ravel(test_labels), 'pred': ts_predict}\n",
      "res_df = pd.DataFrame(data=d)"
     ],
     "language": "python",
     "metadata": {},
     "outputs": [],
     "prompt_number": 827
    },
    {
     "cell_type": "code",
     "collapsed": false,
     "input": [
      "res_df"
     ],
     "language": "python",
     "metadata": {},
     "outputs": [
      {
       "html": [
        "<div style=\"max-height:1000px;max-width:1500px;overflow:auto;\">\n",
        "<table border=\"1\" class=\"dataframe\">\n",
        "  <thead>\n",
        "    <tr style=\"text-align: right;\">\n",
        "      <th></th>\n",
        "      <th>orig</th>\n",
        "      <th>pred</th>\n",
        "    </tr>\n",
        "  </thead>\n",
        "  <tbody>\n",
        "    <tr>\n",
        "      <th>0  </th>\n",
        "      <td> 0</td>\n",
        "      <td> 0</td>\n",
        "    </tr>\n",
        "    <tr>\n",
        "      <th>1  </th>\n",
        "      <td> 0</td>\n",
        "      <td> 0</td>\n",
        "    </tr>\n",
        "    <tr>\n",
        "      <th>2  </th>\n",
        "      <td> 0</td>\n",
        "      <td> 1</td>\n",
        "    </tr>\n",
        "    <tr>\n",
        "      <th>3  </th>\n",
        "      <td> 0</td>\n",
        "      <td> 0</td>\n",
        "    </tr>\n",
        "    <tr>\n",
        "      <th>4  </th>\n",
        "      <td> 0</td>\n",
        "      <td> 0</td>\n",
        "    </tr>\n",
        "    <tr>\n",
        "      <th>5  </th>\n",
        "      <td> 0</td>\n",
        "      <td> 0</td>\n",
        "    </tr>\n",
        "    <tr>\n",
        "      <th>6  </th>\n",
        "      <td> 0</td>\n",
        "      <td> 0</td>\n",
        "    </tr>\n",
        "    <tr>\n",
        "      <th>7  </th>\n",
        "      <td> 0</td>\n",
        "      <td> 0</td>\n",
        "    </tr>\n",
        "    <tr>\n",
        "      <th>8  </th>\n",
        "      <td> 1</td>\n",
        "      <td> 1</td>\n",
        "    </tr>\n",
        "    <tr>\n",
        "      <th>9  </th>\n",
        "      <td> 0</td>\n",
        "      <td> 0</td>\n",
        "    </tr>\n",
        "    <tr>\n",
        "      <th>10 </th>\n",
        "      <td> 0</td>\n",
        "      <td> 0</td>\n",
        "    </tr>\n",
        "    <tr>\n",
        "      <th>11 </th>\n",
        "      <td> 1</td>\n",
        "      <td> 1</td>\n",
        "    </tr>\n",
        "    <tr>\n",
        "      <th>12 </th>\n",
        "      <td> 0</td>\n",
        "      <td> 0</td>\n",
        "    </tr>\n",
        "    <tr>\n",
        "      <th>13 </th>\n",
        "      <td> 0</td>\n",
        "      <td> 0</td>\n",
        "    </tr>\n",
        "    <tr>\n",
        "      <th>14 </th>\n",
        "      <td> 0</td>\n",
        "      <td> 0</td>\n",
        "    </tr>\n",
        "    <tr>\n",
        "      <th>15 </th>\n",
        "      <td> 0</td>\n",
        "      <td> 0</td>\n",
        "    </tr>\n",
        "    <tr>\n",
        "      <th>16 </th>\n",
        "      <td> 0</td>\n",
        "      <td> 1</td>\n",
        "    </tr>\n",
        "    <tr>\n",
        "      <th>17 </th>\n",
        "      <td> 0</td>\n",
        "      <td> 1</td>\n",
        "    </tr>\n",
        "    <tr>\n",
        "      <th>18 </th>\n",
        "      <td> 1</td>\n",
        "      <td> 1</td>\n",
        "    </tr>\n",
        "    <tr>\n",
        "      <th>19 </th>\n",
        "      <td> 0</td>\n",
        "      <td> 0</td>\n",
        "    </tr>\n",
        "    <tr>\n",
        "      <th>20 </th>\n",
        "      <td> 0</td>\n",
        "      <td> 0</td>\n",
        "    </tr>\n",
        "    <tr>\n",
        "      <th>21 </th>\n",
        "      <td> 0</td>\n",
        "      <td> 0</td>\n",
        "    </tr>\n",
        "    <tr>\n",
        "      <th>22 </th>\n",
        "      <td> 0</td>\n",
        "      <td> 0</td>\n",
        "    </tr>\n",
        "    <tr>\n",
        "      <th>23 </th>\n",
        "      <td> 0</td>\n",
        "      <td> 0</td>\n",
        "    </tr>\n",
        "    <tr>\n",
        "      <th>24 </th>\n",
        "      <td> 0</td>\n",
        "      <td> 1</td>\n",
        "    </tr>\n",
        "    <tr>\n",
        "      <th>25 </th>\n",
        "      <td> 0</td>\n",
        "      <td> 0</td>\n",
        "    </tr>\n",
        "    <tr>\n",
        "      <th>26 </th>\n",
        "      <td> 0</td>\n",
        "      <td> 0</td>\n",
        "    </tr>\n",
        "    <tr>\n",
        "      <th>27 </th>\n",
        "      <td> 0</td>\n",
        "      <td> 1</td>\n",
        "    </tr>\n",
        "    <tr>\n",
        "      <th>28 </th>\n",
        "      <td> 1</td>\n",
        "      <td> 1</td>\n",
        "    </tr>\n",
        "    <tr>\n",
        "      <th>29 </th>\n",
        "      <td> 0</td>\n",
        "      <td> 0</td>\n",
        "    </tr>\n",
        "    <tr>\n",
        "      <th>...</th>\n",
        "      <td>...</td>\n",
        "      <td>...</td>\n",
        "    </tr>\n",
        "    <tr>\n",
        "      <th>970</th>\n",
        "      <td> 0</td>\n",
        "      <td> 0</td>\n",
        "    </tr>\n",
        "    <tr>\n",
        "      <th>971</th>\n",
        "      <td> 0</td>\n",
        "      <td> 0</td>\n",
        "    </tr>\n",
        "    <tr>\n",
        "      <th>972</th>\n",
        "      <td> 0</td>\n",
        "      <td> 0</td>\n",
        "    </tr>\n",
        "    <tr>\n",
        "      <th>973</th>\n",
        "      <td> 1</td>\n",
        "      <td> 1</td>\n",
        "    </tr>\n",
        "    <tr>\n",
        "      <th>974</th>\n",
        "      <td> 1</td>\n",
        "      <td> 1</td>\n",
        "    </tr>\n",
        "    <tr>\n",
        "      <th>975</th>\n",
        "      <td> 0</td>\n",
        "      <td> 0</td>\n",
        "    </tr>\n",
        "    <tr>\n",
        "      <th>976</th>\n",
        "      <td> 0</td>\n",
        "      <td> 1</td>\n",
        "    </tr>\n",
        "    <tr>\n",
        "      <th>977</th>\n",
        "      <td> 0</td>\n",
        "      <td> 1</td>\n",
        "    </tr>\n",
        "    <tr>\n",
        "      <th>978</th>\n",
        "      <td> 0</td>\n",
        "      <td> 0</td>\n",
        "    </tr>\n",
        "    <tr>\n",
        "      <th>979</th>\n",
        "      <td> 1</td>\n",
        "      <td> 1</td>\n",
        "    </tr>\n",
        "    <tr>\n",
        "      <th>980</th>\n",
        "      <td> 1</td>\n",
        "      <td> 1</td>\n",
        "    </tr>\n",
        "    <tr>\n",
        "      <th>981</th>\n",
        "      <td> 0</td>\n",
        "      <td> 0</td>\n",
        "    </tr>\n",
        "    <tr>\n",
        "      <th>982</th>\n",
        "      <td> 0</td>\n",
        "      <td> 0</td>\n",
        "    </tr>\n",
        "    <tr>\n",
        "      <th>983</th>\n",
        "      <td> 0</td>\n",
        "      <td> 0</td>\n",
        "    </tr>\n",
        "    <tr>\n",
        "      <th>984</th>\n",
        "      <td> 0</td>\n",
        "      <td> 0</td>\n",
        "    </tr>\n",
        "    <tr>\n",
        "      <th>985</th>\n",
        "      <td> 0</td>\n",
        "      <td> 0</td>\n",
        "    </tr>\n",
        "    <tr>\n",
        "      <th>986</th>\n",
        "      <td> 0</td>\n",
        "      <td> 0</td>\n",
        "    </tr>\n",
        "    <tr>\n",
        "      <th>987</th>\n",
        "      <td> 0</td>\n",
        "      <td> 0</td>\n",
        "    </tr>\n",
        "    <tr>\n",
        "      <th>988</th>\n",
        "      <td> 0</td>\n",
        "      <td> 0</td>\n",
        "    </tr>\n",
        "    <tr>\n",
        "      <th>989</th>\n",
        "      <td> 0</td>\n",
        "      <td> 0</td>\n",
        "    </tr>\n",
        "    <tr>\n",
        "      <th>990</th>\n",
        "      <td> 0</td>\n",
        "      <td> 0</td>\n",
        "    </tr>\n",
        "    <tr>\n",
        "      <th>991</th>\n",
        "      <td> 0</td>\n",
        "      <td> 0</td>\n",
        "    </tr>\n",
        "    <tr>\n",
        "      <th>992</th>\n",
        "      <td> 0</td>\n",
        "      <td> 0</td>\n",
        "    </tr>\n",
        "    <tr>\n",
        "      <th>993</th>\n",
        "      <td> 0</td>\n",
        "      <td> 0</td>\n",
        "    </tr>\n",
        "    <tr>\n",
        "      <th>994</th>\n",
        "      <td> 0</td>\n",
        "      <td> 0</td>\n",
        "    </tr>\n",
        "    <tr>\n",
        "      <th>995</th>\n",
        "      <td> 0</td>\n",
        "      <td> 0</td>\n",
        "    </tr>\n",
        "    <tr>\n",
        "      <th>996</th>\n",
        "      <td> 1</td>\n",
        "      <td> 1</td>\n",
        "    </tr>\n",
        "    <tr>\n",
        "      <th>997</th>\n",
        "      <td> 0</td>\n",
        "      <td> 0</td>\n",
        "    </tr>\n",
        "    <tr>\n",
        "      <th>998</th>\n",
        "      <td> 0</td>\n",
        "      <td> 0</td>\n",
        "    </tr>\n",
        "    <tr>\n",
        "      <th>999</th>\n",
        "      <td> 0</td>\n",
        "      <td> 0</td>\n",
        "    </tr>\n",
        "  </tbody>\n",
        "</table>\n",
        "<p>1000 rows \u00d7 2 columns</p>\n",
        "</div>"
       ],
       "metadata": {},
       "output_type": "pyout",
       "prompt_number": 828,
       "text": [
        "     orig  pred\n",
        "0       0     0\n",
        "1       0     0\n",
        "2       0     1\n",
        "3       0     0\n",
        "4       0     0\n",
        "5       0     0\n",
        "6       0     0\n",
        "7       0     0\n",
        "8       1     1\n",
        "9       0     0\n",
        "10      0     0\n",
        "11      1     1\n",
        "12      0     0\n",
        "13      0     0\n",
        "14      0     0\n",
        "15      0     0\n",
        "16      0     1\n",
        "17      0     1\n",
        "18      1     1\n",
        "19      0     0\n",
        "20      0     0\n",
        "21      0     0\n",
        "22      0     0\n",
        "23      0     0\n",
        "24      0     1\n",
        "25      0     0\n",
        "26      0     0\n",
        "27      0     1\n",
        "28      1     1\n",
        "29      0     0\n",
        "..    ...   ...\n",
        "970     0     0\n",
        "971     0     0\n",
        "972     0     0\n",
        "973     1     1\n",
        "974     1     1\n",
        "975     0     0\n",
        "976     0     1\n",
        "977     0     1\n",
        "978     0     0\n",
        "979     1     1\n",
        "980     1     1\n",
        "981     0     0\n",
        "982     0     0\n",
        "983     0     0\n",
        "984     0     0\n",
        "985     0     0\n",
        "986     0     0\n",
        "987     0     0\n",
        "988     0     0\n",
        "989     0     0\n",
        "990     0     0\n",
        "991     0     0\n",
        "992     0     0\n",
        "993     0     0\n",
        "994     0     0\n",
        "995     0     0\n",
        "996     1     1\n",
        "997     0     0\n",
        "998     0     0\n",
        "999     0     0\n",
        "\n",
        "[1000 rows x 2 columns]"
       ]
      }
     ],
     "prompt_number": 828
    },
    {
     "cell_type": "code",
     "collapsed": false,
     "input": [],
     "language": "python",
     "metadata": {},
     "outputs": [],
     "prompt_number": 818
    },
    {
     "cell_type": "code",
     "collapsed": false,
     "input": [],
     "language": "python",
     "metadata": {},
     "outputs": [],
     "prompt_number": 818
    },
    {
     "cell_type": "code",
     "collapsed": false,
     "input": [],
     "language": "python",
     "metadata": {},
     "outputs": [],
     "prompt_number": 515
    },
    {
     "cell_type": "code",
     "collapsed": false,
     "input": [],
     "language": "python",
     "metadata": {},
     "outputs": []
    }
   ],
   "metadata": {}
  }
 ]
}